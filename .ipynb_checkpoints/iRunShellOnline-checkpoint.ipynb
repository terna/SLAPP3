{
 "cells": [
  {
   "cell_type": "markdown",
   "metadata": {},
   "source": [
    "To start a project, press the button ▶︎****|**** (or Shift+Enter), paying attention to the cursor: it has to be in the cell below.\n",
    "\n",
    "Projects you can choose:\n",
    "\n",
    "* **basic**, documented in the [*Reference Handbook*](https://terna.github.io/SLAPP3/SLAPP_Reference_Handbook.pdf);\n",
    "* **basicConfParser**, documented in the [*Reference Handbook*](https://terna.github.io/SLAPP3/SLAPP_Reference_Handbook.pdf), in Section *An option: adopting the INI file format for parameter input*;\n",
    "* **basic2classes**, documented in the [*Reference Handbook*](https://terna.github.io/SLAPP3/SLAPP_Reference_Handbook.pdf);\n",
    "* **basic2D**, documented in the [*Reference Handbook*](https://terna.github.io/SLAPP3/SLAPP_Reference_Handbook.pdf);\n",
    "* **basic3D**, documented in the [*Reference Handbook*](https://terna.github.io/SLAPP3/SLAPP_Reference_Handbook.pdf);\n",
    "* **debug**, documented in the [*Reference Handbook*](https://terna.github.io/SLAPP3/SLAPP_Reference_Handbook.pdf);\n",
    "* **production**, documented in [Boero et al. (2015)](http://www.palgrave.com/it/book/9781137339805) book;\n",
    "* **oligopoly**, version *6book*, documented at [https://github.com/terna/oligopoly](https://github.com/terna/oligopoly), where you can also find other versions;\n",
    "* we have also the **school** project, documented in [Boero et al. (2015)](http://www.palgrave.com/it/book/9781137339805) book, but within [Binder](http://mybinder.org) it raises an error, being *turtle* based (turtle Python class reqires tkinter, not consistent with Jupyter \"%matplotlib inline\" magic command); to run it, you have to download and install locally SLAPP, from [https://github.com/terna/SLAPP3](https://github.com/terna/SLAPP3)."
   ]
  },
  {
   "cell_type": "code",
   "execution_count": null,
   "metadata": {
    "scrolled": false
   },
   "outputs": [],
   "source": [
    "%run runShell.py"
   ]
  },
  {
   "cell_type": "markdown",
   "metadata": {},
   "source": [
    "- To launch a new projet use again the ▶︎****|**** button (or Shift+Enter), but only after restarting the kernel with the ⟳ button. Choosing **Kernel/Restart & Clear Output** you also have a clean restart."
   ]
  }
 ],
 "metadata": {
  "kernelspec": {
   "display_name": "Python 3",
   "language": "python",
   "name": "python3"
  },
  "language_info": {
   "codemirror_mode": {
    "name": "ipython",
    "version": 3
   },
   "file_extension": ".py",
   "mimetype": "text/x-python",
   "name": "python",
   "nbconvert_exporter": "python",
   "pygments_lexer": "ipython3",
   "version": "3.9.4"
  }
 },
 "nbformat": 4,
 "nbformat_minor": 2
}
