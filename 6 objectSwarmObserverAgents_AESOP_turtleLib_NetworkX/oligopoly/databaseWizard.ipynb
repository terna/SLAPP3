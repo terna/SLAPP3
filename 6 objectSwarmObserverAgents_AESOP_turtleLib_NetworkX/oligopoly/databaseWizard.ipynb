{
 "cells": [
  {
   "cell_type": "markdown",
   "metadata": {},
   "source": [
    "The wizard reads the final output file of Oligopoly, finding them in the current \n",
    "folder and producing a list from which to choose.\n",
    "\n",
    "It is based on **[quickviz](https://github.com/chmduquesne/quickviz)**. there is also a [tutorial](https://github.com/chmduquesne/quickviz/blob/master/examples/seaborn/Tutorial.ipynb).\n",
    "\n",
    "The tutorial (or a part of it) also works [directly in Binder](\n",
    "https://mybinder.org/v2/gh/chmduquesne/quickviz/master?filepath=examples/Tutorial.ipynb).\n",
    "\n",
    "**[quickviz](https://github.com/chmduquesne/quickviz)** uses [seaborn](https://seaborn.pydata.org) on [pandas](https://pandas.pydata.org).\n",
    "\n",
    "Below we have the possible graphical production from two of the databases."
   ]
  },
  {
   "cell_type": "code",
   "execution_count": null,
   "metadata": {
    "scrolled": false
   },
   "outputs": [],
   "source": [
    "import numpy as np\n",
    "import pandas as pd\n",
    "    \n",
    "from quickviz import visualize as v # use v(df)\n",
    "\n",
    "import warnings as wn\n",
    "\n",
    "#precision in tables\n",
    "pd.set_option('precision',2)\n",
    "#rows in tables\n",
    "pd.set_option('display.max_rows', 1000)\n",
    "\n",
    "wn.filterwarnings(action=\"ignore\")"
   ]
  },
  {
   "cell_type": "code",
   "execution_count": null,
   "metadata": {
    "scrolled": false
   },
   "outputs": [],
   "source": [
    "# to chose a csv file in the current folder\n",
    "import os\n",
    "filesHere=os.listdir(\"./\")\n",
    "selected=[]\n",
    "for i in range(len(filesHere)):\n",
    "    if filesHere[i].find('_ts.csv')>0: selected.append(filesHere[i])\n",
    "selected.sort()\n",
    "for i in range(len(selected)):\n",
    "    print (i, selected[i])"
   ]
  },
  {
   "cell_type": "code",
   "execution_count": null,
   "metadata": {
    "scrolled": false
   },
   "outputs": [],
   "source": [
    "num=int(input(\"Choose a file via its number (>=0;<=\"+str(len(selected)-1)+\" \"))\n",
    "\n",
    "try:\n",
    "    modPars_df = pd.read_csv(selected[num][:17]+'_modPars.csv')\n",
    "    modPars_df.index += 1 \n",
    "except BaseException:\n",
    "    modPars_df = pd.DataFrame([[\"no changes in parameters\"]],columns=[\"  \"])\n",
    "    modPars_df.index += 1\n",
    "\n",
    "firms=False\n",
    "    \n",
    "try:\n",
    "    firms_df = pd.read_csv(selected[num][:17]+'_firms.csv')\n",
    "    modPars_df.index += 1 \n",
    "    firms=True\n",
    "except BaseException:\n",
    "    pass\n",
    "\n",
    "\n",
    "par_df = pd.read_csv(selected[num][:17]+'_par.csv')\n",
    "par_df.index += 1 \n",
    "\n",
    "ts_df = pd.read_csv(selected[num])\n",
    "#set index to start from 1, data are collected at the end of each period\n",
    "ts_df.index += 1 \n",
    "\n",
    "str_df = pd.read_csv(selected[num][:17]+'_str.csv')\n",
    "#leave index to start from 0, data are collected at the beginning of each period"
   ]
  },
  {
   "cell_type": "code",
   "execution_count": null,
   "metadata": {},
   "outputs": [],
   "source": [
    "# parameters (not interesting in a graphic way due to non numerical contents)\n",
    "#v(par_df)"
   ]
  },
  {
   "cell_type": "code",
   "execution_count": null,
   "metadata": {},
   "outputs": [],
   "source": [
    "# structure\n",
    "v(str_df)"
   ]
  },
  {
   "cell_type": "code",
   "execution_count": null,
   "metadata": {},
   "outputs": [],
   "source": [
    "# time series\n",
    "v(ts_df)"
   ]
  },
  {
   "cell_type": "code",
   "execution_count": null,
   "metadata": {},
   "outputs": [],
   "source": [
    "#v(firms_df)\n",
    "#not existing for old runs and not interesting"
   ]
  }
 ],
 "metadata": {
  "kernelspec": {
   "display_name": "Python 3",
   "language": "python",
   "name": "python3"
  },
  "language_info": {
   "codemirror_mode": {
    "name": "ipython",
    "version": 3
   },
   "file_extension": ".py",
   "mimetype": "text/x-python",
   "name": "python",
   "nbconvert_exporter": "python",
   "pygments_lexer": "ipython3",
   "version": "3.7.0"
  }
 },
 "nbformat": 4,
 "nbformat_minor": 1
}
